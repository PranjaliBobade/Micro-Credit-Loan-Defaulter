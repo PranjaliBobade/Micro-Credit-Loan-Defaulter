{
 "cells": [
  {
   "cell_type": "code",
   "execution_count": 1,
   "metadata": {},
   "outputs": [],
   "source": [
    "# Import all required libraries\n",
    "\n",
    "import pandas as pd\n",
    "from sklearn import preprocessing\n",
    "from matplotlib import pyplot as plt\n",
    "from sklearn.model_selection import train_test_split\n",
    "\n",
    "from sklearn.model_selection import StratifiedKFold\n",
    "from sklearn.metrics import classification_report\n",
    "from sklearn.metrics import confusion_matrix\n",
    "from sklearn.metrics import accuracy_score\n",
    "from sklearn.linear_model import LogisticRegression\n",
    "from sklearn.tree import DecisionTreeClassifier\n",
    "from sklearn.neighbors import KNeighborsClassifier\n",
    "from sklearn.discriminant_analysis import LinearDiscriminantAnalysis\n",
    "from sklearn.naive_bayes import GaussianNB\n",
    "from sklearn.svm import SVC\n",
    "\n",
    "import seaborn as sns\n",
    "import warnings\n",
    "warnings.filterwarnings('ignore')"
   ]
  },
  {
   "cell_type": "code",
   "execution_count": 2,
   "metadata": {},
   "outputs": [],
   "source": [
    "# import micri credit loan data files using pandas\n",
    "df=pd.read_csv(\"F:/Pranjali/FLIP ROBO/Project/Micro_Credit_Loan.csv\")"
   ]
  },
  {
   "cell_type": "code",
   "execution_count": 3,
   "metadata": {},
   "outputs": [
    {
     "name": "stdout",
     "output_type": "stream",
     "text": [
      "3000\n"
     ]
    }
   ],
   "source": [
    "# importing the sys module to check the recursion limit\n",
    "import sys \n",
    "print(sys.getrecursionlimit())"
   ]
  },
  {
   "cell_type": "code",
   "execution_count": 4,
   "metadata": {},
   "outputs": [],
   "source": [
    "# set recurrsion limit as data is huge & sytem giving 'Dead Kernel' error multiple times\n",
    "sys.setrecursionlimit(10**9)"
   ]
  },
  {
   "cell_type": "code",
   "execution_count": 5,
   "metadata": {},
   "outputs": [
    {
     "data": {
      "text/html": [
       "<div>\n",
       "<style scoped>\n",
       "    .dataframe tbody tr th:only-of-type {\n",
       "        vertical-align: middle;\n",
       "    }\n",
       "\n",
       "    .dataframe tbody tr th {\n",
       "        vertical-align: top;\n",
       "    }\n",
       "\n",
       "    .dataframe thead th {\n",
       "        text-align: right;\n",
       "    }\n",
       "</style>\n",
       "<table border=\"1\" class=\"dataframe\">\n",
       "  <thead>\n",
       "    <tr style=\"text-align: right;\">\n",
       "      <th></th>\n",
       "      <th>label</th>\n",
       "      <th>msisdn</th>\n",
       "      <th>aon</th>\n",
       "      <th>daily_decr30</th>\n",
       "      <th>daily_decr90</th>\n",
       "      <th>rental30</th>\n",
       "      <th>rental90</th>\n",
       "      <th>last_rech_date_ma</th>\n",
       "      <th>last_rech_date_da</th>\n",
       "      <th>last_rech_amt_ma</th>\n",
       "      <th>...</th>\n",
       "      <th>maxamnt_loans30</th>\n",
       "      <th>medianamnt_loans30</th>\n",
       "      <th>cnt_loans90</th>\n",
       "      <th>amnt_loans90</th>\n",
       "      <th>maxamnt_loans90</th>\n",
       "      <th>medianamnt_loans90</th>\n",
       "      <th>payback30</th>\n",
       "      <th>payback90</th>\n",
       "      <th>pcircle</th>\n",
       "      <th>pdate</th>\n",
       "    </tr>\n",
       "  </thead>\n",
       "  <tbody>\n",
       "    <tr>\n",
       "      <th>0</th>\n",
       "      <td>0</td>\n",
       "      <td>21408I70789</td>\n",
       "      <td>272.0</td>\n",
       "      <td>3055.05</td>\n",
       "      <td>3065.15</td>\n",
       "      <td>220.13</td>\n",
       "      <td>260.13</td>\n",
       "      <td>2.0</td>\n",
       "      <td>NaN</td>\n",
       "      <td>1539.0</td>\n",
       "      <td>...</td>\n",
       "      <td>6.0</td>\n",
       "      <td>NaN</td>\n",
       "      <td>2.0</td>\n",
       "      <td>12.0</td>\n",
       "      <td>6.0</td>\n",
       "      <td>NaN</td>\n",
       "      <td>29.0</td>\n",
       "      <td>29.0</td>\n",
       "      <td>UPW</td>\n",
       "      <td>7/20/2016</td>\n",
       "    </tr>\n",
       "    <tr>\n",
       "      <th>1</th>\n",
       "      <td>1</td>\n",
       "      <td>76462I70374</td>\n",
       "      <td>712.0</td>\n",
       "      <td>12122.00</td>\n",
       "      <td>12124.75</td>\n",
       "      <td>3691.26</td>\n",
       "      <td>3691.26</td>\n",
       "      <td>20.0</td>\n",
       "      <td>NaN</td>\n",
       "      <td>5787.0</td>\n",
       "      <td>...</td>\n",
       "      <td>12.0</td>\n",
       "      <td>NaN</td>\n",
       "      <td>1.0</td>\n",
       "      <td>12.0</td>\n",
       "      <td>12.0</td>\n",
       "      <td>NaN</td>\n",
       "      <td>NaN</td>\n",
       "      <td>NaN</td>\n",
       "      <td>UPW</td>\n",
       "      <td>8/10/2016</td>\n",
       "    </tr>\n",
       "  </tbody>\n",
       "</table>\n",
       "<p>2 rows × 36 columns</p>\n",
       "</div>"
      ],
      "text/plain": [
       "   label       msisdn    aon  daily_decr30  daily_decr90  rental30  rental90  \\\n",
       "0      0  21408I70789  272.0       3055.05       3065.15    220.13    260.13   \n",
       "1      1  76462I70374  712.0      12122.00      12124.75   3691.26   3691.26   \n",
       "\n",
       "   last_rech_date_ma  last_rech_date_da  last_rech_amt_ma  ...  \\\n",
       "0                2.0                NaN            1539.0  ...   \n",
       "1               20.0                NaN            5787.0  ...   \n",
       "\n",
       "   maxamnt_loans30  medianamnt_loans30  cnt_loans90  amnt_loans90  \\\n",
       "0              6.0                 NaN          2.0          12.0   \n",
       "1             12.0                 NaN          1.0          12.0   \n",
       "\n",
       "   maxamnt_loans90  medianamnt_loans90  payback30  payback90  pcircle  \\\n",
       "0              6.0                 NaN       29.0       29.0      UPW   \n",
       "1             12.0                 NaN        NaN        NaN      UPW   \n",
       "\n",
       "       pdate  \n",
       "0  7/20/2016  \n",
       "1  8/10/2016  \n",
       "\n",
       "[2 rows x 36 columns]"
      ]
     },
     "execution_count": 5,
     "metadata": {},
     "output_type": "execute_result"
    }
   ],
   "source": [
    "# Read the data column by column\n",
    "df.head(2)"
   ]
  },
  {
   "cell_type": "markdown",
   "metadata": {},
   "source": [
    "In this dataset label is target & other fields are feature inputs.\n",
    "Abvove info shows that null values are present in this dataset."
   ]
  },
  {
   "cell_type": "code",
   "execution_count": 6,
   "metadata": {},
   "outputs": [
    {
     "name": "stdout",
     "output_type": "stream",
     "text": [
      "<class 'pandas.core.frame.DataFrame'>\n",
      "RangeIndex: 209593 entries, 0 to 209592\n",
      "Data columns (total 36 columns):\n",
      " #   Column                  Non-Null Count   Dtype  \n",
      "---  ------                  --------------   -----  \n",
      " 0   label                   209593 non-null  int64  \n",
      " 1   msisdn                  209593 non-null  object \n",
      " 2   aon                     209593 non-null  float64\n",
      " 3   daily_decr30            209593 non-null  float64\n",
      " 4   daily_decr90            209593 non-null  float64\n",
      " 5   rental30                209593 non-null  float64\n",
      " 6   rental90                209593 non-null  float64\n",
      " 7   last_rech_date_ma       188850 non-null  float64\n",
      " 8   last_rech_date_da       6732 non-null    float64\n",
      " 9   last_rech_amt_ma        188598 non-null  float64\n",
      " 10  cnt_ma_rech30           181614 non-null  float64\n",
      " 11  fr_ma_rech30            130910 non-null  float64\n",
      " 12  sumamnt_ma_rech30       181614 non-null  float64\n",
      " 13  medianamnt_ma_rech3nan  181614 non-null  float64\n",
      " 14  medianmarechprebal30    181772 non-null  float64\n",
      " 15  cnt_ma_rech90           188643 non-null  float64\n",
      " 16  fr_ma_rech90            143840 non-null  float64\n",
      " 17  sumamnt_ma_rech90       188760 non-null  float64\n",
      " 18  medianamnt_ma_rech90    188760 non-null  float64\n",
      " 19  medianmarechprebal90    188760 non-null  float64\n",
      " 20  cnt_da_rech30           4114 non-null    float64\n",
      " 21  fr_da_rech30            1579 non-null    float64\n",
      " 22  cnt_da_rech90           5367 non-null    float64\n",
      " 23  fr_da_rech90            865 non-null     float64\n",
      " 24  cnt_loans30             206334 non-null  float64\n",
      " 25  amnt_loans30            206334 non-null  float64\n",
      " 26  maxamnt_loans30         206349 non-null  float64\n",
      " 27  medianamnt_loans30      14148 non-null   float64\n",
      " 28  cnt_loans90             207557 non-null  float64\n",
      " 29  amnt_loans90            207550 non-null  float64\n",
      " 30  maxamnt_loans90         207550 non-null  float64\n",
      " 31  medianamnt_loans90      12169 non-null   float64\n",
      " 32  payback30               102881 non-null  float64\n",
      " 33  payback90               113894 non-null  float64\n",
      " 34  pcircle                 209593 non-null  object \n",
      " 35  pdate                   209593 non-null  object \n",
      "dtypes: float64(32), int64(1), object(3)\n",
      "memory usage: 57.6+ MB\n"
     ]
    }
   ],
   "source": [
    "# Check data types & null count as below\n",
    "df.info()"
   ]
  },
  {
   "cell_type": "code",
   "execution_count": 7,
   "metadata": {},
   "outputs": [],
   "source": [
    "# Use for loop to convert all data types (float) into interger data types for all columns\n",
    "\n",
    "from sklearn.preprocessing import LabelEncoder\n",
    "label_encoders = LabelEncoder()\n",
    "\n",
    "label_encoders = {}\n",
    "categorical_columns = [\n",
    " 'aon',\n",
    " 'daily_decr30',\n",
    " 'daily_decr90',\n",
    " 'rental30',\n",
    " 'rental90']\n",
    "\n",
    "for column in categorical_columns:\n",
    "    label_encoders[column] = LabelEncoder()\n",
    "    df[column] = label_encoders[column].fit_transform(df[column])"
   ]
  },
  {
   "cell_type": "code",
   "execution_count": 8,
   "metadata": {},
   "outputs": [],
   "source": [
    "# Use for loop to convert all data types(string) into interger data types for all columns\n",
    "\n",
    "from sklearn.preprocessing import LabelEncoder\n",
    "label_encoders = LabelEncoder()\n",
    "\n",
    "label_encoders = {}\n",
    "categorical_columns = [\n",
    "'last_rech_date_ma',\n",
    " 'last_rech_date_da',\n",
    " 'last_rech_amt_ma',\n",
    " 'cnt_ma_rech30',\n",
    " 'fr_ma_rech30',\n",
    " 'sumamnt_ma_rech30',\n",
    " 'medianmarechprebal30',\n",
    " 'cnt_ma_rech90',\n",
    " 'fr_ma_rech90',\n",
    " 'sumamnt_ma_rech90',\n",
    " 'medianamnt_ma_rech90',\n",
    " 'medianmarechprebal90',\n",
    " 'cnt_da_rech30',\n",
    " 'fr_da_rech30',\n",
    " 'cnt_da_rech90',\n",
    " 'fr_da_rech90',\n",
    " 'cnt_loans30',\n",
    " 'amnt_loans30',\n",
    " 'maxamnt_loans30',\n",
    " 'medianamnt_loans30',\n",
    " 'cnt_loans90',\n",
    " 'amnt_loans90',\n",
    " 'maxamnt_loans90',\n",
    " 'medianamnt_loans90',\n",
    " 'payback30',\n",
    " 'payback90',\n",
    " 'pcircle',\n",
    " 'pdate']\n",
    "\n",
    "for column in categorical_columns:\n",
    "    label_encoders[column] = LabelEncoder()\n",
    "    df[column] = label_encoders[column].fit_transform(df[column])"
   ]
  },
  {
   "cell_type": "code",
   "execution_count": 9,
   "metadata": {},
   "outputs": [
    {
     "name": "stdout",
     "output_type": "stream",
     "text": [
      "<class 'pandas.core.frame.DataFrame'>\n",
      "RangeIndex: 209593 entries, 0 to 209592\n",
      "Data columns (total 36 columns):\n",
      " #   Column                  Non-Null Count   Dtype  \n",
      "---  ------                  --------------   -----  \n",
      " 0   label                   209593 non-null  int64  \n",
      " 1   msisdn                  209593 non-null  object \n",
      " 2   aon                     209593 non-null  int64  \n",
      " 3   daily_decr30            209593 non-null  int64  \n",
      " 4   daily_decr90            209593 non-null  int64  \n",
      " 5   rental30                209593 non-null  int64  \n",
      " 6   rental90                209593 non-null  int64  \n",
      " 7   last_rech_date_ma       209593 non-null  int64  \n",
      " 8   last_rech_date_da       209593 non-null  int64  \n",
      " 9   last_rech_amt_ma        209593 non-null  int64  \n",
      " 10  cnt_ma_rech30           209593 non-null  int64  \n",
      " 11  fr_ma_rech30            209593 non-null  int64  \n",
      " 12  sumamnt_ma_rech30       209593 non-null  int64  \n",
      " 13  medianamnt_ma_rech3nan  181614 non-null  float64\n",
      " 14  medianmarechprebal30    209593 non-null  int64  \n",
      " 15  cnt_ma_rech90           209593 non-null  int64  \n",
      " 16  fr_ma_rech90            209593 non-null  int64  \n",
      " 17  sumamnt_ma_rech90       209593 non-null  int64  \n",
      " 18  medianamnt_ma_rech90    209593 non-null  int64  \n",
      " 19  medianmarechprebal90    209593 non-null  int64  \n",
      " 20  cnt_da_rech30           209593 non-null  int64  \n",
      " 21  fr_da_rech30            209593 non-null  int64  \n",
      " 22  cnt_da_rech90           209593 non-null  int64  \n",
      " 23  fr_da_rech90            209593 non-null  int64  \n",
      " 24  cnt_loans30             209593 non-null  int64  \n",
      " 25  amnt_loans30            209593 non-null  int64  \n",
      " 26  maxamnt_loans30         209593 non-null  int64  \n",
      " 27  medianamnt_loans30      209593 non-null  int64  \n",
      " 28  cnt_loans90             209593 non-null  int64  \n",
      " 29  amnt_loans90            209593 non-null  int64  \n",
      " 30  maxamnt_loans90         209593 non-null  int64  \n",
      " 31  medianamnt_loans90      209593 non-null  int64  \n",
      " 32  payback30               209593 non-null  int64  \n",
      " 33  payback90               209593 non-null  int64  \n",
      " 34  pcircle                 209593 non-null  int32  \n",
      " 35  pdate                   209593 non-null  int32  \n",
      "dtypes: float64(1), int32(2), int64(32), object(1)\n",
      "memory usage: 56.0+ MB\n"
     ]
    }
   ],
   "source": [
    "# Verify the null values & data types again after using label encoder\n",
    "df.info()"
   ]
  },
  {
   "cell_type": "code",
   "execution_count": 10,
   "metadata": {},
   "outputs": [
    {
     "data": {
      "text/plain": [
       "<matplotlib.axes._subplots.AxesSubplot at 0x1fd7e599460>"
      ]
     },
     "execution_count": 10,
     "metadata": {},
     "output_type": "execute_result"
    },
    {
     "data": {
      "image/png": "[encoded data removed]",
      "text/plain": [
       "<Figure size 432x288 with 2 Axes>"
      ]
     },
     "metadata": {
      "needs_background": "light"
     },
     "output_type": "display_data"
    }
   ],
   "source": [
    "# check missing values\n",
    "sns.heatmap(df.isnull())"
   ]
  },
  {
   "cell_type": "code",
   "execution_count": 11,
   "metadata": {},
   "outputs": [
    {
     "data": {
      "image/png": "[encoded data removed]",
      "text/plain": [
       "<Figure size 432x288 with 1 Axes>"
      ]
     },
     "metadata": {
      "needs_background": "light"
     },
     "output_type": "display_data"
    }
   ],
   "source": [
    "# Analysis of target value 'label' using plot to visualise % of  \n",
    "sns.countplot(x='label', data=df);"
   ]
  },
  {
   "cell_type": "code",
   "execution_count": 25,
   "metadata": {},
   "outputs": [
    {
     "name": "stdout",
     "output_type": "stream",
     "text": [
      "label\n",
      "0     26162\n",
      "1    183431\n",
      "dtype: int64\n"
     ]
    }
   ],
   "source": [
    "# label distribution of target \n",
    "print(df.groupby('label').size())"
   ]
  },
  {
   "cell_type": "raw",
   "metadata": {},
   "source": [
    "It gives defaulter as 26162 people & non-defaulter as 183431 out of total borrower 209,593."
   ]
  },
  {
   "cell_type": "code",
   "execution_count": 26,
   "metadata": {
    "scrolled": true
   },
   "outputs": [
    {
     "data": {
      "text/html": [
       "<div>\n",
       "<style scoped>\n",
       "    .dataframe tbody tr th:only-of-type {\n",
       "        vertical-align: middle;\n",
       "    }\n",
       "\n",
       "    .dataframe tbody tr th {\n",
       "        vertical-align: top;\n",
       "    }\n",
       "\n",
       "    .dataframe thead th {\n",
       "        text-align: right;\n",
       "    }\n",
       "</style>\n",
       "<table border=\"1\" class=\"dataframe\">\n",
       "  <thead>\n",
       "    <tr style=\"text-align: right;\">\n",
       "      <th></th>\n",
       "      <th>label</th>\n",
       "      <th>aon</th>\n",
       "      <th>daily_decr30</th>\n",
       "      <th>daily_decr90</th>\n",
       "      <th>rental30</th>\n",
       "      <th>rental90</th>\n",
       "      <th>last_rech_date_ma</th>\n",
       "      <th>last_rech_date_da</th>\n",
       "      <th>last_rech_amt_ma</th>\n",
       "      <th>cnt_ma_rech30</th>\n",
       "      <th>...</th>\n",
       "      <th>maxamnt_loans30</th>\n",
       "      <th>medianamnt_loans30</th>\n",
       "      <th>cnt_loans90</th>\n",
       "      <th>amnt_loans90</th>\n",
       "      <th>maxamnt_loans90</th>\n",
       "      <th>medianamnt_loans90</th>\n",
       "      <th>payback30</th>\n",
       "      <th>payback90</th>\n",
       "      <th>pcircle</th>\n",
       "      <th>pdate</th>\n",
       "    </tr>\n",
       "  </thead>\n",
       "  <tbody>\n",
       "    <tr>\n",
       "      <th>count</th>\n",
       "      <td>209593.000000</td>\n",
       "      <td>209593.000000</td>\n",
       "      <td>209593.000000</td>\n",
       "      <td>209593.000000</td>\n",
       "      <td>209593.000000</td>\n",
       "      <td>209593.000000</td>\n",
       "      <td>209593.000000</td>\n",
       "      <td>209593.000000</td>\n",
       "      <td>209593.000000</td>\n",
       "      <td>209593.000000</td>\n",
       "      <td>...</td>\n",
       "      <td>209593.000000</td>\n",
       "      <td>209593.000000</td>\n",
       "      <td>209593.000000</td>\n",
       "      <td>209593.000000</td>\n",
       "      <td>209593.000000</td>\n",
       "      <td>209593.000000</td>\n",
       "      <td>209593.000000</td>\n",
       "      <td>209593.000000</td>\n",
       "      <td>209593.0</td>\n",
       "      <td>209593.000000</td>\n",
       "    </tr>\n",
       "    <tr>\n",
       "      <th>mean</th>\n",
       "      <td>0.875177</td>\n",
       "      <td>690.289094</td>\n",
       "      <td>66544.667766</td>\n",
       "      <td>67044.634181</td>\n",
       "      <td>51616.229192</td>\n",
       "      <td>54335.257556</td>\n",
       "      <td>1178.013235</td>\n",
       "      <td>99311.897349</td>\n",
       "      <td>1072.621361</td>\n",
       "      <td>1879.874795</td>\n",
       "      <td>...</td>\n",
       "      <td>44.080127</td>\n",
       "      <td>91130.247728</td>\n",
       "      <td>26.268225</td>\n",
       "      <td>13.565506</td>\n",
       "      <td>10.098591</td>\n",
       "      <td>92985.039763</td>\n",
       "      <td>28050.123997</td>\n",
       "      <td>23403.648137</td>\n",
       "      <td>0.0</td>\n",
       "      <td>37.706598</td>\n",
       "    </tr>\n",
       "    <tr>\n",
       "      <th>std</th>\n",
       "      <td>0.330519</td>\n",
       "      <td>572.221653</td>\n",
       "      <td>44081.531271</td>\n",
       "      <td>45807.105446</td>\n",
       "      <td>38632.931157</td>\n",
       "      <td>41282.497664</td>\n",
       "      <td>3921.868992</td>\n",
       "      <td>60379.153683</td>\n",
       "      <td>3703.035988</td>\n",
       "      <td>5617.836546</td>\n",
       "      <td>...</td>\n",
       "      <td>351.914511</td>\n",
       "      <td>59745.548837</td>\n",
       "      <td>220.866634</td>\n",
       "      <td>121.631502</td>\n",
       "      <td>116.144657</td>\n",
       "      <td>59936.574722</td>\n",
       "      <td>34940.060710</td>\n",
       "      <td>30874.535581</td>\n",
       "      <td>0.0</td>\n",
       "      <td>23.008156</td>\n",
       "    </tr>\n",
       "    <tr>\n",
       "      <th>min</th>\n",
       "      <td>0.000000</td>\n",
       "      <td>0.000000</td>\n",
       "      <td>0.000000</td>\n",
       "      <td>0.000000</td>\n",
       "      <td>0.000000</td>\n",
       "      <td>0.000000</td>\n",
       "      <td>0.000000</td>\n",
       "      <td>0.000000</td>\n",
       "      <td>0.000000</td>\n",
       "      <td>0.000000</td>\n",
       "      <td>...</td>\n",
       "      <td>0.000000</td>\n",
       "      <td>0.000000</td>\n",
       "      <td>0.000000</td>\n",
       "      <td>0.000000</td>\n",
       "      <td>0.000000</td>\n",
       "      <td>0.000000</td>\n",
       "      <td>0.000000</td>\n",
       "      <td>0.000000</td>\n",
       "      <td>0.0</td>\n",
       "      <td>0.000000</td>\n",
       "    </tr>\n",
       "    <tr>\n",
       "      <th>25%</th>\n",
       "      <td>1.000000</td>\n",
       "      <td>253.000000</td>\n",
       "      <td>25122.000000</td>\n",
       "      <td>25107.000000</td>\n",
       "      <td>16299.000000</td>\n",
       "      <td>16270.000000</td>\n",
       "      <td>30.000000</td>\n",
       "      <td>46839.000000</td>\n",
       "      <td>5.000000</td>\n",
       "      <td>1.000000</td>\n",
       "      <td>...</td>\n",
       "      <td>0.000000</td>\n",
       "      <td>38255.000000</td>\n",
       "      <td>0.000000</td>\n",
       "      <td>0.000000</td>\n",
       "      <td>0.000000</td>\n",
       "      <td>40234.000000</td>\n",
       "      <td>379.000000</td>\n",
       "      <td>811.000000</td>\n",
       "      <td>0.0</td>\n",
       "      <td>18.000000</td>\n",
       "    </tr>\n",
       "    <tr>\n",
       "      <th>50%</th>\n",
       "      <td>1.000000</td>\n",
       "      <td>534.000000</td>\n",
       "      <td>65783.000000</td>\n",
       "      <td>63332.000000</td>\n",
       "      <td>43900.000000</td>\n",
       "      <td>45357.000000</td>\n",
       "      <td>32.000000</td>\n",
       "      <td>99237.000000</td>\n",
       "      <td>13.000000</td>\n",
       "      <td>3.000000</td>\n",
       "      <td>...</td>\n",
       "      <td>0.000000</td>\n",
       "      <td>90653.000000</td>\n",
       "      <td>1.000000</td>\n",
       "      <td>1.000000</td>\n",
       "      <td>0.000000</td>\n",
       "      <td>92632.000000</td>\n",
       "      <td>3277.000000</td>\n",
       "      <td>1562.000000</td>\n",
       "      <td>0.0</td>\n",
       "      <td>37.000000</td>\n",
       "    </tr>\n",
       "    <tr>\n",
       "      <th>75%</th>\n",
       "      <td>1.000000</td>\n",
       "      <td>989.000000</td>\n",
       "      <td>104950.000000</td>\n",
       "      <td>104660.000000</td>\n",
       "      <td>83566.000000</td>\n",
       "      <td>88423.000000</td>\n",
       "      <td>39.000000</td>\n",
       "      <td>151635.000000</td>\n",
       "      <td>30.000000</td>\n",
       "      <td>7.000000</td>\n",
       "      <td>...</td>\n",
       "      <td>0.000000</td>\n",
       "      <td>143051.000000</td>\n",
       "      <td>4.000000</td>\n",
       "      <td>4.000000</td>\n",
       "      <td>0.000000</td>\n",
       "      <td>145030.000000</td>\n",
       "      <td>55675.000000</td>\n",
       "      <td>45680.000000</td>\n",
       "      <td>0.0</td>\n",
       "      <td>57.000000</td>\n",
       "    </tr>\n",
       "    <tr>\n",
       "      <th>max</th>\n",
       "      <td>1.000000</td>\n",
       "      <td>4506.000000</td>\n",
       "      <td>146327.000000</td>\n",
       "      <td>155482.000000</td>\n",
       "      <td>131337.000000</td>\n",
       "      <td>139035.000000</td>\n",
       "      <td>21927.000000</td>\n",
       "      <td>204033.000000</td>\n",
       "      <td>21063.000000</td>\n",
       "      <td>28048.000000</td>\n",
       "      <td>...</td>\n",
       "      <td>4292.000000</td>\n",
       "      <td>195449.000000</td>\n",
       "      <td>3144.000000</td>\n",
       "      <td>2110.000000</td>\n",
       "      <td>2044.000000</td>\n",
       "      <td>197428.000000</td>\n",
       "      <td>108073.000000</td>\n",
       "      <td>98078.000000</td>\n",
       "      <td>0.0</td>\n",
       "      <td>81.000000</td>\n",
       "    </tr>\n",
       "  </tbody>\n",
       "</table>\n",
       "<p>8 rows × 35 columns</p>\n",
       "</div>"
      ],
      "text/plain": [
       "               label            aon   daily_decr30   daily_decr90  \\\n",
       "count  209593.000000  209593.000000  209593.000000  209593.000000   \n",
       "mean        0.875177     690.289094   66544.667766   67044.634181   \n",
       "std         0.330519     572.221653   44081.531271   45807.105446   \n",
       "min         0.000000       0.000000       0.000000       0.000000   \n",
       "25%         1.000000     253.000000   25122.000000   25107.000000   \n",
       "50%         1.000000     534.000000   65783.000000   63332.000000   \n",
       "75%         1.000000     989.000000  104950.000000  104660.000000   \n",
       "max         1.000000    4506.000000  146327.000000  155482.000000   \n",
       "\n",
       "            rental30       rental90  last_rech_date_ma  last_rech_date_da  \\\n",
       "count  209593.000000  209593.000000      209593.000000      209593.000000   \n",
       "mean    51616.229192   54335.257556        1178.013235       99311.897349   \n",
       "std     38632.931157   41282.497664        3921.868992       60379.153683   \n",
       "min         0.000000       0.000000           0.000000           0.000000   \n",
       "25%     16299.000000   16270.000000          30.000000       46839.000000   \n",
       "50%     43900.000000   45357.000000          32.000000       99237.000000   \n",
       "75%     83566.000000   88423.000000          39.000000      151635.000000   \n",
       "max    131337.000000  139035.000000       21927.000000      204033.000000   \n",
       "\n",
       "       last_rech_amt_ma  cnt_ma_rech30  ...  maxamnt_loans30  \\\n",
       "count     209593.000000  209593.000000  ...    209593.000000   \n",
       "mean        1072.621361    1879.874795  ...        44.080127   \n",
       "std         3703.035988    5617.836546  ...       351.914511   \n",
       "min            0.000000       0.000000  ...         0.000000   \n",
       "25%            5.000000       1.000000  ...         0.000000   \n",
       "50%           13.000000       3.000000  ...         0.000000   \n",
       "75%           30.000000       7.000000  ...         0.000000   \n",
       "max        21063.000000   28048.000000  ...      4292.000000   \n",
       "\n",
       "       medianamnt_loans30    cnt_loans90   amnt_loans90  maxamnt_loans90  \\\n",
       "count       209593.000000  209593.000000  209593.000000    209593.000000   \n",
       "mean         91130.247728      26.268225      13.565506        10.098591   \n",
       "std          59745.548837     220.866634     121.631502       116.144657   \n",
       "min              0.000000       0.000000       0.000000         0.000000   \n",
       "25%          38255.000000       0.000000       0.000000         0.000000   \n",
       "50%          90653.000000       1.000000       1.000000         0.000000   \n",
       "75%         143051.000000       4.000000       4.000000         0.000000   \n",
       "max         195449.000000    3144.000000    2110.000000      2044.000000   \n",
       "\n",
       "       medianamnt_loans90      payback30      payback90   pcircle  \\\n",
       "count       209593.000000  209593.000000  209593.000000  209593.0   \n",
       "mean         92985.039763   28050.123997   23403.648137       0.0   \n",
       "std          59936.574722   34940.060710   30874.535581       0.0   \n",
       "min              0.000000       0.000000       0.000000       0.0   \n",
       "25%          40234.000000     379.000000     811.000000       0.0   \n",
       "50%          92632.000000    3277.000000    1562.000000       0.0   \n",
       "75%         145030.000000   55675.000000   45680.000000       0.0   \n",
       "max         197428.000000  108073.000000   98078.000000       0.0   \n",
       "\n",
       "               pdate  \n",
       "count  209593.000000  \n",
       "mean       37.706598  \n",
       "std        23.008156  \n",
       "min         0.000000  \n",
       "25%        18.000000  \n",
       "50%        37.000000  \n",
       "75%        57.000000  \n",
       "max        81.000000  \n",
       "\n",
       "[8 rows x 35 columns]"
      ]
     },
     "execution_count": 26,
     "metadata": {},
     "output_type": "execute_result"
    }
   ],
   "source": [
    "df.describe()"
   ]
  },
  {
   "cell_type": "code",
   "execution_count": null,
   "metadata": {},
   "outputs": [],
   "source": []
  },
  {
   "cell_type": "code",
   "execution_count": 27,
   "metadata": {},
   "outputs": [
    {
     "data": {
      "text/plain": [
       "<matplotlib.axes._subplots.AxesSubplot at 0x1d218b812b0>"
      ]
     },
     "execution_count": 27,
     "metadata": {},
     "output_type": "execute_result"
    },
    {
     "data": {
      "image/png": "[encoded data removed]",
      "text/plain": [
       "<Figure size 432x288 with 2 Axes>"
      ]
     },
     "metadata": {
      "needs_background": "light"
     },
     "output_type": "display_data"
    }
   ],
   "source": [
    "# checking correlation using heatmap\n",
    "dfcor=df.corr()\n",
    "sns.heatmap(dfcor)"
   ]
  },
  {
   "cell_type": "code",
   "execution_count": null,
   "metadata": {},
   "outputs": [],
   "source": [
    "As per above heatmap,correlation exist in following columns-\n",
    "daily_decr30               \n",
    "rental30                   \n",
    "last_rech_date_ma          \n",
    "last_rech_date_da          \n",
    "last_rech_amt_ma           \n",
    "fr_ma_rech30               \n",
    "medianamnt_ma_rech30  \n",
    "medianmarechprebal30       \n",
    "cnt_ma_rech90              \n",
    "fr_ma_rech90               \n",
    "sumamnt_ma_rech90          \n",
    "medianamnt_ma_rech90       \n",
    "medianmarechprebal90       \n",
    "fr_da_rech30               \n",
    "fr_da_rech90               \n",
    "amnt_loans30              \n",
    "medianamnt_loans30         \n",
    "amnt_loans90              \n",
    "medianamnt_loans90         \n",
    "payback90"
   ]
  },
  {
   "cell_type": "code",
   "execution_count": 28,
   "metadata": {},
   "outputs": [
    {
     "data": {
      "text/plain": [
       "label                     -2.270254\n",
       "aon                        1.806204\n",
       "daily_decr30               0.087551\n",
       "daily_decr90               0.228175\n",
       "rental30                   0.449031\n",
       "rental90                   0.466723\n",
       "last_rech_date_ma          3.643154\n",
       "last_rech_date_da          0.006706\n",
       "last_rech_amt_ma           3.730708\n",
       "cnt_ma_rech30              3.122546\n",
       "fr_ma_rech30               1.337694\n",
       "sumamnt_ma_rech30          2.203079\n",
       "medianamnt_ma_rech3nan     3.644709\n",
       "medianmarechprebal30       1.838453\n",
       "cnt_ma_rech90              3.730242\n",
       "fr_ma_rech90               1.631654\n",
       "sumamnt_ma_rech90          1.678163\n",
       "medianamnt_ma_rech90       3.694152\n",
       "medianmarechprebal90       1.941388\n",
       "cnt_da_rech30              0.002079\n",
       "fr_da_rech30               0.000062\n",
       "cnt_da_rech90              0.006123\n",
       "fr_da_rech90               0.000160\n",
       "cnt_loans30               10.214726\n",
       "amnt_loans30              10.201898\n",
       "maxamnt_loans30            8.914041\n",
       "medianamnt_loans30         0.037169\n",
       "cnt_loans90               10.465490\n",
       "amnt_loans90              12.815685\n",
       "maxamnt_loans90           13.040593\n",
       "medianamnt_loans90         0.028353\n",
       "payback30                  0.888973\n",
       "payback90                  1.040637\n",
       "pcircle                    0.000000\n",
       "pdate                      0.138073\n",
       "dtype: float64"
      ]
     },
     "execution_count": 28,
     "metadata": {},
     "output_type": "execute_result"
    }
   ],
   "source": [
    "# Checking for skewness for each of the column as its not allowed more than 0.5\n",
    "df.skew()"
   ]
  },
  {
   "cell_type": "code",
   "execution_count": 29,
   "metadata": {},
   "outputs": [],
   "source": [
    "# Apply standard scaler to reduce the skewness/non scaled data\n",
    "import pandas as pd    \n",
    "from sklearn.preprocessing import StandardScaler\n",
    "\n",
    "features = ['aon','last_rech_date_ma','last_rech_amt_ma','cnt_ma_rech30','fr_ma_rech30','sumamnt_ma_rech30','medianamnt_ma_rech3nan','medianmarechprebal30','cnt_ma_rech90','fr_ma_rech90','sumamnt_ma_rech90','medianamnt_ma_rech90','medianmarechprebal90','cnt_loans30','amnt_loans30','maxamnt_loans30','cnt_loans90','amnt_loans90','maxamnt_loans90','payback30']\n",
    "autoscaler = StandardScaler()\n",
    "df[features] = autoscaler.fit_transform(df[features])"
   ]
  },
  {
   "cell_type": "code",
   "execution_count": 30,
   "metadata": {},
   "outputs": [
    {
     "data": {
      "image/png": "[encoded data removed]",
      "text/plain": [
       "<Figure size 432x288 with 40 Axes>"
      ]
     },
     "metadata": {
      "needs_background": "light"
     },
     "output_type": "display_data"
    }
   ],
   "source": [
    "# Univariant Visualization - box and whisker plots\n",
    "df.plot(kind='box', subplots=True, layout=(5,8), sharex=False, sharey=False)\n",
    "plt.show()"
   ]
  },
  {
   "cell_type": "code",
   "execution_count": null,
   "metadata": {},
   "outputs": [],
   "source": [
    "# Multivariant Visualization-draw Scatter plot \n",
    "# sns.pairplot(df)\n",
    "# plt.show()"
   ]
  },
  {
   "cell_type": "code",
   "execution_count": null,
   "metadata": {},
   "outputs": [],
   "source": [
    "# Prepare X & Y to train/test model"
   ]
  },
  {
   "cell_type": "code",
   "execution_count": 12,
   "metadata": {},
   "outputs": [],
   "source": [
    "import pandas as pd\n",
    "X = df[[\n",
    " 'aon',\n",
    " 'daily_decr30',\n",
    " 'daily_decr90',\n",
    " 'rental30',\n",
    " 'rental90',\n",
    "'last_rech_date_ma',\n",
    " 'last_rech_date_da',\n",
    " 'last_rech_amt_ma',\n",
    " 'cnt_ma_rech30',\n",
    " 'fr_ma_rech30',\n",
    " 'sumamnt_ma_rech30',\n",
    " 'medianmarechprebal30',\n",
    " 'cnt_ma_rech90',\n",
    " 'fr_ma_rech90',\n",
    " 'sumamnt_ma_rech90',\n",
    " 'medianamnt_ma_rech90',\n",
    " 'medianmarechprebal90',\n",
    " 'cnt_da_rech30',\n",
    " 'fr_da_rech30',\n",
    " 'cnt_da_rech90',\n",
    " 'fr_da_rech90',\n",
    " 'cnt_loans30',\n",
    " 'amnt_loans30',\n",
    " 'maxamnt_loans30',\n",
    " 'medianamnt_loans30',\n",
    " 'cnt_loans90',\n",
    " 'amnt_loans90',\n",
    " 'maxamnt_loans90',\n",
    " 'medianamnt_loans90',\n",
    " 'payback30',\n",
    " 'payback90',\n",
    " 'pcircle',\n",
    " 'pdate']]\n",
    "y = df.label        # y is a vector, hence we use dot to access 'label'"
   ]
  },
  {
   "cell_type": "code",
   "execution_count": 13,
   "metadata": {},
   "outputs": [
    {
     "name": "stdout",
     "output_type": "stream",
     "text": [
      "<class 'pandas.core.frame.DataFrame'>\n",
      "(209593, 33)\n"
     ]
    }
   ],
   "source": [
    "print(type(X))\n",
    "print(X.shape)"
   ]
  },
  {
   "cell_type": "code",
   "execution_count": 14,
   "metadata": {},
   "outputs": [
    {
     "name": "stdout",
     "output_type": "stream",
     "text": [
      "<class 'pandas.core.series.Series'>\n",
      "(209593,)\n"
     ]
    }
   ],
   "source": [
    "print(type(y))\n",
    "print(y.shape)"
   ]
  },
  {
   "cell_type": "code",
   "execution_count": 15,
   "metadata": {},
   "outputs": [],
   "source": [
    "# Splitting X and y into training and testing sets\n",
    "\n",
    "from sklearn.model_selection import train_test_split\n",
    "X_train, X_test, y_train, y_test = train_test_split(X, y, random_state=1)"
   ]
  },
  {
   "cell_type": "code",
   "execution_count": 16,
   "metadata": {},
   "outputs": [
    {
     "data": {
      "text/plain": [
       "LogisticRegression()"
      ]
     },
     "execution_count": 16,
     "metadata": {},
     "output_type": "execute_result"
    }
   ],
   "source": [
    "# train a logistic regression model on the training set\n",
    "from sklearn.linear_model import LogisticRegression\n",
    "\n",
    "logreg = LogisticRegression()        # instantiate model\n",
    "logreg.fit(X_train, y_train)         # fit model"
   ]
  },
  {
   "cell_type": "code",
   "execution_count": 17,
   "metadata": {},
   "outputs": [
    {
     "name": "stdout",
     "output_type": "stream",
     "text": [
      "0.879119830531117\n"
     ]
    }
   ],
   "source": [
    "# make class predictions for the testing set\n",
    "from sklearn import metrics\n",
    "\n",
    "y_pred_class = logreg.predict(X_test)\n",
    "\n",
    "# Classification accuracy: percentage of correct predictions\n",
    "print(metrics.accuracy_score(y_test, y_pred_class))"
   ]
  },
  {
   "cell_type": "code",
   "execution_count": 18,
   "metadata": {},
   "outputs": [
    {
     "data": {
      "text/plain": [
       "0.7862949525003506"
      ]
     },
     "execution_count": 18,
     "metadata": {},
     "output_type": "execute_result"
    }
   ],
   "source": [
    "# calculate cross-validated AUC\n",
    "from sklearn.model_selection import cross_val_score\n",
    "cross_val_score(logreg, X, y, cv=10, scoring='roc_auc').mean()"
   ]
  },
  {
   "cell_type": "code",
   "execution_count": 19,
   "metadata": {},
   "outputs": [],
   "source": [
    "# Load libraries\n",
    "from pandas import read_csv\n",
    "from sklearn.model_selection import train_test_split\n",
    "from sklearn.model_selection import cross_val_score\n",
    "from sklearn.metrics import classification_report\n",
    "from sklearn.metrics import confusion_matrix\n",
    "from sklearn.metrics import accuracy_score\n",
    "from sklearn.linear_model import LogisticRegression\n",
    "from sklearn.tree import DecisionTreeClassifier\n",
    "from sklearn.neighbors import KNeighborsClassifier\n",
    "from sklearn.discriminant_analysis import LinearDiscriminantAnalysis\n",
    "from sklearn.naive_bayes import GaussianNB\n",
    "from sklearn.svm import SVC"
   ]
  },
  {
   "cell_type": "code",
   "execution_count": null,
   "metadata": {},
   "outputs": [
    {
     "name": "stdout",
     "output_type": "stream",
     "text": [
      "LR: 0.878437 (0.001061)\n",
      "LDA: 0.870300 (0.001646)\n",
      "KNN: 0.879531 (0.002350)\n",
      "CART: 0.879073 (0.002313)\n",
      "NB: 0.287479 (0.001884)\n"
     ]
    }
   ],
   "source": [
    "# Spot Check Algorithms\n",
    "\n",
    "models = []\n",
    "models.append(('LR', LogisticRegression(solver='liblinear', multi_class='ovr')))\n",
    "models.append(('LDA', LinearDiscriminantAnalysis()))\n",
    "models.append(('KNN', KNeighborsClassifier()))\n",
    "models.append(('CART', DecisionTreeClassifier()))\n",
    "models.append(('NB', GaussianNB()))\n",
    "models.append(('SVM', SVC(gamma='auto')))\n",
    "# evaluate each model in turn\n",
    "results = []\n",
    "names = []\n",
    "for name, model in models:    \n",
    "    kfold = StratifiedKFold(n_splits=10, random_state=1, shuffle=True)\n",
    "    cv_results = cross_val_score(model, X_train, y_train, cv=kfold, scoring='accuracy')\n",
    "    results.append(cv_results)\n",
    "    names.append(name)\n",
    "    print('%s: %f (%f)' % (name, cv_results.mean(), cv_results.std()))"
   ]
  },
  {
   "cell_type": "code",
   "execution_count": null,
   "metadata": {},
   "outputs": [],
   "source": [
    "Daily amount spend & average main account balance in last 30 days, Frequency of recharge for data accoun t & main account in 30/90 days,loan taken in last 90 days & payback time for last 30 days."
   ]
  },
  {
   "cell_type": "code",
   "execution_count": null,
   "metadata": {},
   "outputs": [],
   "source": [
    "knn=KNeighborsClassifier()\n",
    "score=cross_val_score(knn,X,y,cv=5,scoring='accuracy')\n",
    "\n",
    "print('accuracy score:',score)\n",
    "print('mean score:',score.mean())\n",
    "print('stn deviation:',score.std())\n",
    "\n",
    "y_pred = cross_val_predict(knn, X, y, cv=5)\n",
    "\n",
    "print('Y prediction values')\n",
    "print(y_pred)\n",
    "\n",
    "print(\"y_pred.shape\",y_pred.shape)\n",
    "\n",
    "conf_mat = confusion_matrix(y, y_pred)\n",
    "conf_mat"
   ]
  },
  {
   "cell_type": "code",
   "execution_count": null,
   "metadata": {},
   "outputs": [],
   "source": [
    "from sklearn.externals import joblib \n",
    "from sklearn.neighbors import KNeighborsClassifier\n",
    "\n",
    "joblib_file = \"joblib_knn.pkl\"             # Save to file in the current working directory\n",
    "joblib.dump(knn, joblib_file)\n",
    "joblib_knn = joblib.load(joblib_file)      # Load from file\n",
    "\n",
    "score = joblib_knn.score(X_test, y_test)   # Calculate the accuracy and predictions\n",
    "print(\"Test score for KNN Model: {0:.2f} %\".format(100 * score))"
   ]
  },
  {
   "cell_type": "code",
   "execution_count": null,
   "metadata": {},
   "outputs": [],
   "source": [
    "# Visualization of predictions\n",
    "import seaborn as sns\n",
    "ax1 = sns.distplot(y_test, hist = False, color = 'r', label = 'actual')\n",
    "sns.distplot(y_pred, hist = False, color = 'b', label = 'prediction', ax = ax1)"
   ]
  }
 ],
 "metadata": {
  "kernelspec": {
   "display_name": "Python 3",
   "language": "python",
   "name": "python3"
  },
  "language_info": {
   "codemirror_mode": {
    "name": "ipython",
    "version": 3
   },
   "file_extension": ".py",
   "mimetype": "text/x-python",
   "name": "python",
   "nbconvert_exporter": "python",
   "pygments_lexer": "ipython3",
   "version": "3.8.3"
  }
 },
 "nbformat": 4,
 "nbformat_minor": 4
}
